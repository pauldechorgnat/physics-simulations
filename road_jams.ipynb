{
 "cells": [
  {
   "cell_type": "code",
   "execution_count": 1,
   "metadata": {},
   "outputs": [],
   "source": [
    "import numpy as np\n",
    "import matplotlib.pyplot as plt\n",
    "%matplotlib inline"
   ]
  },
  {
   "cell_type": "code",
   "execution_count": 4,
   "metadata": {},
   "outputs": [],
   "source": [
    "x = np.arange(1, 10)\n",
    "y = np.ones(9)"
   ]
  },
  {
   "cell_type": "code",
   "execution_count": 15,
   "metadata": {},
   "outputs": [
    {
     "data": {
      "image/png": "[encoded data removed]",
      "text/plain": [
       "<Figure size 432x288 with 1 Axes>"
      ]
     },
     "metadata": {
      "needs_background": "light"
     },
     "output_type": "display_data"
    }
   ],
   "source": [
    "plt.scatter(x, y, marker='s', color='black')\n",
    "plt.fill_between(x, y1=0.5, y2=1.5, color='grey', alpha=.2)\n",
    "plt.ylim(0, 2)\n",
    "plt.axis('off')\n",
    "plt.show()"
   ]
  },
  {
   "cell_type": "code",
   "execution_count": 43,
   "metadata": {},
   "outputs": [],
   "source": [
    "class Car:\n",
    "    def __init__(self, position, speed):\n",
    "        self.position = position\n",
    "        self.speed = speed\n",
    "        self.crashed = False\n",
    "    \n",
    "    def advance(self, delta_t=.1):\n",
    "        self.position = self.position + self.speed * delta_t\n",
    "    \n",
    "    def crash(self):\n",
    "        self.speed = 0\n",
    "        self.crashed = True"
   ]
  },
  {
   "cell_type": "code",
   "execution_count": 37,
   "metadata": {},
   "outputs": [],
   "source": [
    "class Road:\n",
    "    def __init__(self, limit=20):\n",
    "        self.cars = []\n",
    "        self.y = np.ones(shape=1 + limit)\n",
    "        self.x = np.arange(0, 1 + limit)\n",
    "        self.limit = limit\n",
    "        \n",
    "    def add_car(self, car):\n",
    "        self.cars.append(car)\n",
    "        \n",
    "    def compute_collision(self):\n",
    "        for c1 in self.cars:\n",
    "            for c2 in self.cars:\n",
    "                if c1 != c2:\n",
    "                    if c1.position - c2.position < \n",
    "        \n",
    "    def plot_positions(self):\n",
    "        positions = np.array([c.position for c in self.cars])\n",
    "        \n",
    "        plt.fill_between(x=self.x, \n",
    "                         y1=self.y - 0.5, \n",
    "                         y2=self.y + 0.5,\n",
    "                         color='grey',\n",
    "                         alpha=.2)\n",
    "        plt.plot(self.x, self.y, color='white', linestyle='--')\n",
    "        plt.scatter(positions, np.ones(len(self.cars)), marker='s', color='black')\n",
    "\n",
    "        plt.ylim(0, 2)\n",
    "        plt.axis('off')\n",
    "        plt.show()\n",
    "        \n",
    "    def step(self, delta_t=.1):\n",
    "        for c in self.cars:\n",
    "            c.advance(delta_t=delta_t)\n",
    "    \n",
    "    "
   ]
  },
  {
   "cell_type": "code",
   "execution_count": 42,
   "metadata": {},
   "outputs": [
    {
     "data": {
      "image/png": "[encoded data removed]",
      "text/plain": [
       "<Figure size 432x288 with 1 Axes>"
      ]
     },
     "metadata": {
      "needs_background": "light"
     },
     "output_type": "display_data"
    },
    {
     "data": {
      "image/png": "[encoded data removed]",
      "text/plain": [
       "<Figure size 432x288 with 1 Axes>"
      ]
     },
     "metadata": {
      "needs_background": "light"
     },
     "output_type": "display_data"
    },
    {
     "data": {
      "image/png": "[encoded data removed]",
      "text/plain": [
       "<Figure size 432x288 with 1 Axes>"
      ]
     },
     "metadata": {
      "needs_background": "light"
     },
     "output_type": "display_data"
    },
    {
     "data": {
      "image/png": "[encoded data removed]",
      "text/plain": [
       "<Figure size 432x288 with 1 Axes>"
      ]
     },
     "metadata": {
      "needs_background": "light"
     },
     "output_type": "display_data"
    },
    {
     "data": {
      "image/png": "[encoded data removed]",
      "text/plain": [
       "<Figure size 432x288 with 1 Axes>"
      ]
     },
     "metadata": {
      "needs_background": "light"
     },
     "output_type": "display_data"
    },
    {
     "data": {
      "image/png": "[encoded data removed]",
      "text/plain": [
       "<Figure size 432x288 with 1 Axes>"
      ]
     },
     "metadata": {
      "needs_background": "light"
     },
     "output_type": "display_data"
    }
   ],
   "source": [
    "road = Road()\n",
    "\n",
    "for i in range(3):\n",
    "    road.add_car(Car(position=i, speed=3-i))\n",
    "\n",
    "road.plot_positions()\n",
    "\n",
    "for j in range(5):\n",
    "    road.step(delta_t=.1)\n",
    "    road.plot_positions()"
   ]
  },
  {
   "cell_type": "code",
   "execution_count": null,
   "metadata": {},
   "outputs": [],
   "source": []
  }
 ],
 "metadata": {
  "kernelspec": {
   "display_name": "Python 3",
   "language": "python",
   "name": "python3"
  },
  "language_info": {
   "codemirror_mode": {
    "name": "ipython",
    "version": 3
   },
   "file_extension": ".py",
   "mimetype": "text/x-python",
   "name": "python",
   "nbconvert_exporter": "python",
   "pygments_lexer": "ipython3",
   "version": "3.8.5"
  }
 },
 "nbformat": 4,
 "nbformat_minor": 4
}
