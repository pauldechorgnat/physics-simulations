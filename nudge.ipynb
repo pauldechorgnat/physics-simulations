{
 "cells": [
  {
   "cell_type": "code",
   "execution_count": 16,
   "metadata": {},
   "outputs": [],
   "source": [
    "import numpy as np\n",
    "import matplotlib.pyplot as plt\n",
    "%matplotlib inline\n",
    "\n",
    "import time\n",
    "from IPython.display import clear_output"
   ]
  },
  {
   "cell_type": "code",
   "execution_count": null,
   "metadata": {},
   "outputs": [],
   "source": [
    "grid_size = 10\n",
    "period = 50\n",
    "\n",
    "\n",
    "grid = np.array([[i, j] for i in range(grid_size) for j in range(grid_size)])\n",
    "\n",
    "offsets = np.random.randint(0, period, size=grid_size**2)\n"
   ]
  },
  {
   "cell_type": "code",
   "execution_count": 35,
   "metadata": {},
   "outputs": [
    {
     "data": {
      "image/png": "[encoded data removed]",
      "text/plain": [
       "<Figure size 720x720 with 1 Axes>"
      ]
     },
     "metadata": {},
     "output_type": "display_data"
    },
    {
     "ename": "KeyboardInterrupt",
     "evalue": "",
     "output_type": "error",
     "traceback": [
      "\u001b[0;31m---------------------------------------------------------------------------\u001b[0m",
      "\u001b[0;31mKeyboardInterrupt\u001b[0m                         Traceback (most recent call last)",
      "\u001b[0;32m<ipython-input-35-2e10bcc11e30>\u001b[0m in \u001b[0;36m<module>\u001b[0;34m\u001b[0m\n\u001b[1;32m      3\u001b[0m \u001b[0;32mfor\u001b[0m \u001b[0mt\u001b[0m \u001b[0;32min\u001b[0m \u001b[0mrange\u001b[0m\u001b[0;34m(\u001b[0m\u001b[0mtime_limit\u001b[0m\u001b[0;34m)\u001b[0m\u001b[0;34m:\u001b[0m\u001b[0;34m\u001b[0m\u001b[0;34m\u001b[0m\u001b[0m\n\u001b[1;32m      4\u001b[0m \u001b[0;34m\u001b[0m\u001b[0m\n\u001b[0;32m----> 5\u001b[0;31m     \u001b[0mtime\u001b[0m\u001b[0;34m.\u001b[0m\u001b[0msleep\u001b[0m\u001b[0;34m(\u001b[0m\u001b[0;36m1\u001b[0m\u001b[0;34m)\u001b[0m\u001b[0;34m\u001b[0m\u001b[0;34m\u001b[0m\u001b[0m\n\u001b[0m\u001b[1;32m      6\u001b[0m     \u001b[0mclear_output\u001b[0m\u001b[0;34m(\u001b[0m\u001b[0;34m)\u001b[0m\u001b[0;34m\u001b[0m\u001b[0;34m\u001b[0m\u001b[0m\n\u001b[1;32m      7\u001b[0m \u001b[0;34m\u001b[0m\u001b[0m\n",
      "\u001b[0;31mKeyboardInterrupt\u001b[0m: "
     ]
    }
   ],
   "source": [
    "time_limit = 1000\n",
    "\n",
    "for t in range(time_limit):\n",
    "    \n",
    "    time.sleep(1)\n",
    "    clear_output()\n",
    "    \n",
    "    lighten_fireflies = np.mod(t, period) == offsets\n",
    "    \n",
    "    plt.figure(figsize=(10, 10), facecolor='black')\n",
    "    plt.scatter(grid[lighten_fireflies == False, 0], grid[lighten_fireflies == False, 1], color='white', marker='o', s=100)\n",
    "    plt.scatter(grid[lighten_fireflies, 0], grid[lighten_fireflies, 1], color='yellow', marker='o', s=100)\n",
    "    plt.axis('off')\n",
    "    plt.show()\n",
    "    \n",
    "    "
   ]
  },
  {
   "cell_type": "code",
   "execution_count": 37,
   "metadata": {},
   "outputs": [
    {
     "ename": "SyntaxError",
     "evalue": "unexpected EOF while parsing (<ipython-input-37-8756f457abc4>, line 1)",
     "output_type": "error",
     "traceback": [
      "\u001b[0;36m  File \u001b[0;32m\"<ipython-input-37-8756f457abc4>\"\u001b[0;36m, line \u001b[0;32m1\u001b[0m\n\u001b[0;31m    distances = np.sqrt([(grid[i][j][0] - grid[j][i][0])**2 + (grid[j][i][1] - grid[i][j][1])**2 for i in range(grid_size) for j in range(grid_size)]\u001b[0m\n\u001b[0m                                                                                                                                                     ^\u001b[0m\n\u001b[0;31mSyntaxError\u001b[0m\u001b[0;31m:\u001b[0m unexpected EOF while parsing\n"
     ]
    }
   ],
   "source": [
    "distances = np.sqrt([(grid[i][j][0] - grid[j][i][0])**2 + (grid[j][i][1] - grid[i][j][1])**2 for i in range(grid_size) for j in range(grid_size)]"
   ]
  },
  {
   "cell_type": "code",
   "execution_count": 41,
   "metadata": {},
   "outputs": [
    {
     "ename": "ValueError",
     "evalue": "cannot reshape array of size 10000 into shape (10,10)",
     "output_type": "error",
     "traceback": [
      "\u001b[0;31m---------------------------------------------------------------------------\u001b[0m",
      "\u001b[0;31mValueError\u001b[0m                                Traceback (most recent call last)",
      "\u001b[0;32m<ipython-input-41-4ab9fd59af59>\u001b[0m in \u001b[0;36m<module>\u001b[0;34m\u001b[0m\n\u001b[0;32m----> 1\u001b[0;31m \u001b[0mnp\u001b[0m\u001b[0;34m.\u001b[0m\u001b[0mdot\u001b[0m\u001b[0;34m(\u001b[0m\u001b[0mgrid\u001b[0m\u001b[0;34m,\u001b[0m \u001b[0mgrid\u001b[0m\u001b[0;34m.\u001b[0m\u001b[0mT\u001b[0m\u001b[0;34m)\u001b[0m\u001b[0;34m.\u001b[0m\u001b[0mreshape\u001b[0m\u001b[0;34m(\u001b[0m\u001b[0mgrid_size\u001b[0m\u001b[0;34m,\u001b[0m \u001b[0mgrid_size\u001b[0m\u001b[0;34m)\u001b[0m\u001b[0;34m\u001b[0m\u001b[0;34m\u001b[0m\u001b[0m\n\u001b[0m",
      "\u001b[0;31mValueError\u001b[0m: cannot reshape array of size 10000 into shape (10,10)"
     ]
    }
   ],
   "source": [
    "np.dot(grid, grid.T).reshape(grid_size, grid_size)"
   ]
  },
  {
   "cell_type": "code",
   "execution_count": 46,
   "metadata": {},
   "outputs": [],
   "source": [
    "class Firefly:\n",
    "    def __init__(self, position_x, position_y, offset, period, nudge_radius):\n",
    "        self.position_x = position_x\n",
    "        self.position_y = position_y\n",
    "        self.offset = offset\n",
    "        self.period = period\n",
    "        self.nudge_radius = nudge_radius\n",
    "        self.neighbours = []\n",
    "        \n",
    "    def advance_intern_clock(self):\n",
    "        self.offset = self.offset - 1\n",
    "        \n",
    "    def light(self, time):\n",
    "        return np.mod(time, period) == offset\n",
    "    \n",
    "    def set_neighbours(self, close_fireflies):\n",
    "        self.neighbours = close_fireflies\n",
    "        "
   ]
  },
  {
   "cell_type": "code",
   "execution_count": 51,
   "metadata": {},
   "outputs": [],
   "source": [
    "class Environment:\n",
    "    def __init__(self, fireflies):\n",
    "        self.fireflies = fireflies\n",
    "        self.distances = []\n",
    "        \n",
    "    def compute_distance_between_fireflies(self, f1, f2):\n",
    "        return np.sqrt(\n",
    "            (f1.position_x - f2.position_x) ** 2 +\n",
    "            (f1.position_y - f2.position_y) ** 2\n",
    "        )\n",
    "    def compute_distances(self):\n",
    "        self.distances = np.array([[self.compute_distance_between_fireflies(f1, f2) for f1 in self.fireflies] for f2 in self.fireflies])\n",
    "        \n",
    "    def nudge_fireflies(self, lit_fireflies)\n",
    "#     def step(self, time):\n",
    "#         for f in fireflies:\n",
    "\n",
    "    def step(self, time):\n",
    "        lighten_fireflies = np.array([f.light(time=time) for f in fireflies])\n",
    "        \n",
    "            "
   ]
  },
  {
   "cell_type": "code",
   "execution_count": 54,
   "metadata": {},
   "outputs": [],
   "source": [
    "fireflies_test = [\n",
    "    Firefly(position_x=0, position_y=0, offset=1, period=10),\n",
    "    Firefly(position_x=0, position_y=1, offset=1, period=10),\n",
    "    Firefly(position_x=1, position_y=1, offset=1, period=10)\n",
    "]\n",
    "\n",
    "env = Environment(fireflies=fireflies_test)\n",
    "\n",
    "env.compute_distances()"
   ]
  },
  {
   "cell_type": "code",
   "execution_count": 55,
   "metadata": {},
   "outputs": [
    {
     "data": {
      "text/plain": [
       "array([[0.        , 1.        , 1.41421356],\n",
       "       [1.        , 0.        , 1.        ],\n",
       "       [1.41421356, 1.        , 0.        ]])"
      ]
     },
     "execution_count": 55,
     "metadata": {},
     "output_type": "execute_result"
    }
   ],
   "source": [
    "env.distances"
   ]
  },
  {
   "cell_type": "code",
   "execution_count": null,
   "metadata": {},
   "outputs": [],
   "source": []
  }
 ],
 "metadata": {
  "kernelspec": {
   "display_name": "Python 3 (ipykernel)",
   "language": "python",
   "name": "python3"
  },
  "language_info": {
   "codemirror_mode": {
    "name": "ipython",
    "version": 3
   },
   "file_extension": ".py",
   "mimetype": "text/x-python",
   "name": "python",
   "nbconvert_exporter": "python",
   "pygments_lexer": "ipython3",
   "version": "3.8.10"
  }
 },
 "nbformat": 4,
 "nbformat_minor": 4
}
