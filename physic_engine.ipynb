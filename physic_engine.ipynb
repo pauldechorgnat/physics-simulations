{
 "cells": [
  {
   "cell_type": "markdown",
   "metadata": {},
   "source": [
    "# Création d'un moteur physique"
   ]
  },
  {
   "cell_type": "code",
   "execution_count": 1,
   "metadata": {},
   "outputs": [],
   "source": [
    "import numpy as np\n",
    "import matplotlib.pyplot as plt"
   ]
  },
  {
   "cell_type": "code",
   "execution_count": 2,
   "metadata": {},
   "outputs": [],
   "source": [
    "class Point:\n",
    "    def __init__(self, x_position, y_position, x_speed, y_speed, mass, frequency=1):\n",
    "        self.x_position = x_position\n",
    "        self.y_position = y_position\n",
    "        self.x_speed = x_speed\n",
    "        self.y_speed = y_speed\n",
    "        self.frequency = frequency\n",
    "        self.mass = mass\n",
    "\n",
    "    def move(self):\n",
    "        self.x_position += self.x_speed / self.frequency\n",
    "        self.y_position += self.y_speed / self.frequency\n",
    "\n",
    "    def set_x_position(self, x_position):\n",
    "        self.x_position = x_position\n",
    "\n",
    "    def set_y_position(self, y_position):\n",
    "        self.y_position = y_position\n",
    "\n",
    "    def set_x_speed(self, x_speed):\n",
    "        self.x_speed = x_speed\n",
    "\n",
    "    def set_y_speed(self, y_speed):\n",
    "        self.y_speed = y_speed"
   ]
  },
  {
   "cell_type": "code",
   "execution_count": 3,
   "metadata": {},
   "outputs": [],
   "source": [
    "def compute_next_step(point, x_forces=0, y_forces=0):\n",
    "    point.set_x_position(point.x_position + point.x_speed / point.frequency)\n",
    "    point.set_x_speed(point.x_speed + x_forces / point.frequency / point.mass)\n",
    "    point.set_y_position(point.y_position + point.y_speed / point.frequency)\n",
    "    point.set_y_speed(point.y_speed + y_forces / point.frequency / point.mass)\n",
    "    return point"
   ]
  },
  {
   "cell_type": "code",
   "execution_count": 4,
   "metadata": {},
   "outputs": [],
   "source": [
    "def generate_equilibrium():\n",
    "    p = Point(0, 0, 1, 1, mass=1)\n",
    "    history = []\n",
    "    for i in range(100):\n",
    "        p = compute_next_step(point=p)\n",
    "        history.append((p.x_position, p.y_position))\n",
    "\n",
    "    return history"
   ]
  },
  {
   "cell_type": "code",
   "execution_count": 5,
   "metadata": {},
   "outputs": [],
   "source": [
    "def generate_free_fall(initial_x_speed=0, initial_y_speed=0, nb_steps=10):\n",
    "    p = Point(0, 0, x_speed=initial_x_speed, y_speed=initial_y_speed, mass=1)\n",
    "    history = []\n",
    "    for i in range(nb_steps):\n",
    "        p = compute_next_step(point=p, x_forces=-9.81)\n",
    "        history.append((p.x_position, p.y_position))\n",
    "\n",
    "    return history"
   ]
  },
  {
   "cell_type": "code",
   "execution_count": 6,
   "metadata": {},
   "outputs": [],
   "source": [
    "def plot_history(history):\n",
    "    history = np.array(history)\n",
    "    plt.scatter(history[:, 1], history[:, 0], color='b')\n",
    "    plt.show()"
   ]
  },
  {
   "cell_type": "markdown",
   "metadata": {},
   "source": [
    "## Free Fall"
   ]
  },
  {
   "cell_type": "code",
   "execution_count": 10,
   "metadata": {},
   "outputs": [
    {
     "data": {
      "image/png": "[encoded data removed]",
      "text/plain": [
       "<Figure size 432x288 with 1 Axes>"
      ]
     },
     "metadata": {
      "needs_background": "light"
     },
     "output_type": "display_data"
    }
   ],
   "source": [
    "history = generate_free_fall(initial_x_speed=100, initial_y_speed=100, nb_steps=20)\n",
    "\n",
    "plot_history(history)"
   ]
  },
  {
   "cell_type": "code",
   "execution_count": null,
   "metadata": {},
   "outputs": [],
   "source": []
  }
 ],
 "metadata": {
  "kernelspec": {
   "display_name": "Python 3 (ipykernel)",
   "language": "python",
   "name": "python3"
  },
  "language_info": {
   "codemirror_mode": {
    "name": "ipython",
    "version": 3
   },
   "file_extension": ".py",
   "mimetype": "text/x-python",
   "name": "python",
   "nbconvert_exporter": "python",
   "pygments_lexer": "ipython3",
   "version": "3.8.10"
  }
 },
 "nbformat": 4,
 "nbformat_minor": 4
}
