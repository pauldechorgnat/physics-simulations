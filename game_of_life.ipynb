{
 "cells": [
  {
   "cell_type": "code",
   "execution_count": 1,
   "metadata": {},
   "outputs": [],
   "source": [
    "import numpy as np\n",
    "from scipy.signal import convolve2d\n",
    "import matplotlib.pyplot as plt\n",
    "%matplotlib inline\n",
    "from IPython.display import clear_output\n",
    "import time"
   ]
  },
  {
   "cell_type": "code",
   "execution_count": 2,
   "metadata": {},
   "outputs": [],
   "source": [
    "neighbors_filter = np.ones(shape=(3, 3))\n",
    "neighbors_filter[1, 1] = 0"
   ]
  },
  {
   "cell_type": "code",
   "execution_count": 3,
   "metadata": {},
   "outputs": [],
   "source": [
    "def compute_step(grid, \n",
    "                 min_death_threshold=2, \n",
    "                 max_death_threshold=3, \n",
    "                 birth_threshold=3):\n",
    "    \n",
    "    neighbors_counter = convolve2d(grid, neighbors_filter, mode='same')\n",
    "    \n",
    "    new_grid = grid.copy()\n",
    "    \n",
    "    # deaths\n",
    "    new_grid[neighbors_counter < min_death_threshold] = 0\n",
    "    new_grid[neighbors_counter > max_death_threshold] = 0\n",
    "    \n",
    "    # births\n",
    "    new_grid[neighbors_counter == birth_threshold] = 1\n",
    "    \n",
    "    return new_grid"
   ]
  },
  {
   "cell_type": "code",
   "execution_count": 4,
   "metadata": {},
   "outputs": [],
   "source": [
    "def compute_episode(initial_grid,\n",
    "                    steps, \n",
    "                    min_death_threshold=2, \n",
    "                    max_death_threshold=3, \n",
    "                    birth_threshold=3):\n",
    "    history = []\n",
    "    grid = initial_grid\n",
    "    for i in range(steps):\n",
    "        grid = compute_step(grid=grid,\n",
    "                            min_death_threshold=min_death_threshold, \n",
    "                            max_death_threshold=max_death_threshold, \n",
    "                            birth_threshold=birth_threshold\n",
    "                           )\n",
    "        history.append(grid)\n",
    "        \n",
    "    return history\n"
   ]
  },
  {
   "cell_type": "code",
   "execution_count": 5,
   "metadata": {},
   "outputs": [],
   "source": [
    "def display_episode(history, waiting_time=.5):\n",
    "    for frame in history:\n",
    "        clear_output()\n",
    "        plt.matshow(frame, cmap='Greys')\n",
    "#         plt.axis('off')\n",
    "        plt.grid(True)\n",
    "        plt.show()\n",
    "        time.sleep(waiting_time)\n",
    "        "
   ]
  },
  {
   "cell_type": "markdown",
   "metadata": {},
   "source": [
    "## Oscillateur"
   ]
  },
  {
   "cell_type": "code",
   "execution_count": 6,
   "metadata": {},
   "outputs": [],
   "source": [
    "initial_grid = np.zeros(shape=(5, 5))\n",
    "initial_grid[2, 1:4] = 1\n",
    "\n",
    "# plt.matshow(initial_grid)\n",
    "# plt.show()"
   ]
  },
  {
   "cell_type": "code",
   "execution_count": 7,
   "metadata": {},
   "outputs": [],
   "source": [
    "history = compute_episode(initial_grid=initial_grid, steps=9)"
   ]
  },
  {
   "cell_type": "code",
   "execution_count": 8,
   "metadata": {},
   "outputs": [
    {
     "data": {
      "image/png": "[encoded data removed]",
      "text/plain": [
       "<Figure size 288x288 with 1 Axes>"
      ]
     },
     "metadata": {
      "needs_background": "light"
     },
     "output_type": "display_data"
    }
   ],
   "source": [
    "display_episode(history, waiting_time=1)"
   ]
  },
  {
   "cell_type": "code",
   "execution_count": 128,
   "metadata": {},
   "outputs": [],
   "source": [
    "# from bokeh.plotting import Figure, output_notebook, show\n",
    "# from bokeh.models import TapTool, Tap\n",
    "# output_notebook()"
   ]
  },
  {
   "cell_type": "code",
   "execution_count": 129,
   "metadata": {},
   "outputs": [],
   "source": [
    "# grid_size = 5\n",
    "\n",
    "# p = Figure(x_range=[-1, grid_size], y_range=[-1, grid_size], toolbar_location=None, tools='tap')\n",
    "# p.xaxis.visible = False\n",
    "# p.xgrid.visible = False\n",
    "# p.yaxis.visible = False\n",
    "# p.ygrid.visible = False\n",
    "# # p.toolbar.location=None\n",
    "\n",
    "# selected = []\n",
    "\n",
    "# grid = np.array(\n",
    "#     [\n",
    "#         [i, j] for i in range(grid_size) for j in range(grid_size)\n",
    "#     ]\n",
    "# )\n",
    "\n",
    "# # taptool = p.select(type=TapTool)\n",
    "\n",
    "# def callback(event):\n",
    "#     selected = source.selected.indices\n",
    "#     print(selected)\n",
    "\n",
    "# p.on_event('tap', callback)\n",
    "\n",
    "# p.scatter(grid[:, 0], grid[:, 1], marker='square', size=80, color='#e5d7d7')\n",
    "\n",
    "# show(p)"
   ]
  },
  {
   "cell_type": "code",
   "execution_count": 10,
   "metadata": {},
   "outputs": [],
   "source": [
    "from skvideo.io import vwrite"
   ]
  },
  {
   "cell_type": "code",
   "execution_count": 11,
   "metadata": {},
   "outputs": [],
   "source": [
    "vwrite('oscillator.mp4', history, outputdict={\n",
    "        '-vcodec': 'libx264',\n",
    "        '-pix_fmt': 'yuv420p'\n",
    "        })"
   ]
  },
  {
   "cell_type": "code",
   "execution_count": 12,
   "metadata": {},
   "outputs": [
    {
     "data": {
      "text/html": [
       "<video src=\"oscillator.mp4\" controls  >\n",
       "      Your browser does not support the <code>video</code> element.\n",
       "    </video>"
      ],
      "text/plain": [
       "<IPython.core.display.Video object>"
      ]
     },
     "execution_count": 12,
     "metadata": {},
     "output_type": "execute_result"
    }
   ],
   "source": [
    "from IPython.display import Video\n",
    "Video('oscillator.mp4')"
   ]
  },
  {
   "cell_type": "code",
   "execution_count": 140,
   "metadata": {},
   "outputs": [
    {
     "data": {
      "text/plain": [
       "[array([[0., 0., 0., 0., 0.],\n",
       "        [0., 0., 1., 0., 0.],\n",
       "        [0., 0., 1., 0., 0.],\n",
       "        [0., 0., 1., 0., 0.],\n",
       "        [0., 0., 0., 0., 0.]]),\n",
       " array([[0., 0., 0., 0., 0.],\n",
       "        [0., 0., 0., 0., 0.],\n",
       "        [0., 1., 1., 1., 0.],\n",
       "        [0., 0., 0., 0., 0.],\n",
       "        [0., 0., 0., 0., 0.]]),\n",
       " array([[0., 0., 0., 0., 0.],\n",
       "        [0., 0., 1., 0., 0.],\n",
       "        [0., 0., 1., 0., 0.],\n",
       "        [0., 0., 1., 0., 0.],\n",
       "        [0., 0., 0., 0., 0.]]),\n",
       " array([[0., 0., 0., 0., 0.],\n",
       "        [0., 0., 0., 0., 0.],\n",
       "        [0., 1., 1., 1., 0.],\n",
       "        [0., 0., 0., 0., 0.],\n",
       "        [0., 0., 0., 0., 0.]]),\n",
       " array([[0., 0., 0., 0., 0.],\n",
       "        [0., 0., 1., 0., 0.],\n",
       "        [0., 0., 1., 0., 0.],\n",
       "        [0., 0., 1., 0., 0.],\n",
       "        [0., 0., 0., 0., 0.]]),\n",
       " array([[0., 0., 0., 0., 0.],\n",
       "        [0., 0., 0., 0., 0.],\n",
       "        [0., 1., 1., 1., 0.],\n",
       "        [0., 0., 0., 0., 0.],\n",
       "        [0., 0., 0., 0., 0.]]),\n",
       " array([[0., 0., 0., 0., 0.],\n",
       "        [0., 0., 1., 0., 0.],\n",
       "        [0., 0., 1., 0., 0.],\n",
       "        [0., 0., 1., 0., 0.],\n",
       "        [0., 0., 0., 0., 0.]]),\n",
       " array([[0., 0., 0., 0., 0.],\n",
       "        [0., 0., 0., 0., 0.],\n",
       "        [0., 1., 1., 1., 0.],\n",
       "        [0., 0., 0., 0., 0.],\n",
       "        [0., 0., 0., 0., 0.]]),\n",
       " array([[0., 0., 0., 0., 0.],\n",
       "        [0., 0., 1., 0., 0.],\n",
       "        [0., 0., 1., 0., 0.],\n",
       "        [0., 0., 1., 0., 0.],\n",
       "        [0., 0., 0., 0., 0.]])]"
      ]
     },
     "execution_count": 140,
     "metadata": {},
     "output_type": "execute_result"
    }
   ],
   "source": [
    "history"
   ]
  },
  {
   "cell_type": "code",
   "execution_count": null,
   "metadata": {},
   "outputs": [],
   "source": []
  }
 ],
 "metadata": {
  "kernelspec": {
   "display_name": "Python 3 (ipykernel)",
   "language": "python",
   "name": "python3"
  },
  "language_info": {
   "codemirror_mode": {
    "name": "ipython",
    "version": 3
   },
   "file_extension": ".py",
   "mimetype": "text/x-python",
   "name": "python",
   "nbconvert_exporter": "python",
   "pygments_lexer": "ipython3",
   "version": "3.8.10"
  }
 },
 "nbformat": 4,
 "nbformat_minor": 4
}
